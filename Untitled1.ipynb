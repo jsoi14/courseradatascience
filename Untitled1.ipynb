{
 "cells": [
  {
   "cell_type": "markdown",
   "id": "25884f24-1878-42d8-920c-03cbf5954583",
   "metadata": {},
   "source": [
    "My Jupyter Notebook on IBM Watson Studio"
   ]
  },
  {
   "cell_type": "markdown",
   "id": "98bab651-7eb4-44bf-8d48-4af3fcf988d7",
   "metadata": {},
   "source": [
    "JOSEPH SOITA\n",
    "STUDENT"
   ]
  },
  {
   "cell_type": "markdown",
   "id": "35b09e44-b023-4755-b1b6-2ada48ec8de9",
   "metadata": {},
   "source": [
    "AM INTERESTED IN DATA SCIENCE TO LEARN HOW TO USE DATA GENERATED FROM TRANSACTIONS TO MAKE FINANCIAL RELATED DECISIONS"
   ]
  },
  {
   "cell_type": "markdown",
   "id": "0808f159-239f-4ef4-b3e2-1e1dd4b9cd00",
   "metadata": {},
   "source": [
    "MY CODE IS ADDING NUMBERS BEGINING WITH 1,2,3 AND THEN THE SUM THAT IS GOT IS ADDED TO THE NEXT NUMBER IN THE SEQUENCE"
   ]
  },
  {
   "cell_type": "code",
   "execution_count": 7,
   "id": "bb4b4ef2-4a93-4fd5-b5b3-8eacc6b728ea",
   "metadata": {},
   "outputs": [
    {
     "data": {
      "text/plain": [
       "2"
      ]
     },
     "execution_count": 7,
     "metadata": {},
     "output_type": "execute_result"
    }
   ],
   "source": [
    "1+1"
   ]
  },
  {
   "cell_type": "code",
   "execution_count": null,
   "id": "97053c62-3469-4bfb-a27a-df48b878ce77",
   "metadata": {},
   "outputs": [],
   "source": []
  }
 ],
 "metadata": {
  "kernelspec": {
   "display_name": "Python",
   "language": "python",
   "name": "conda-env-python-py"
  },
  "language_info": {
   "codemirror_mode": {
    "name": "ipython",
    "version": 3
   },
   "file_extension": ".py",
   "mimetype": "text/x-python",
   "name": "python",
   "nbconvert_exporter": "python",
   "pygments_lexer": "ipython3",
   "version": "3.7.12"
  }
 },
 "nbformat": 4,
 "nbformat_minor": 5
}
